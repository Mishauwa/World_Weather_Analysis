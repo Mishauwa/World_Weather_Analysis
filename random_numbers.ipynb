{
 "cells": [
  {
   "cell_type": "code",
   "execution_count": 116,
   "id": "79daa75a",
   "metadata": {},
   "outputs": [],
   "source": [
    "# Import the random module.\n",
    "\n",
    "import random\n"
   ]
  },
  {
   "cell_type": "code",
   "execution_count": 135,
   "id": "43879293",
   "metadata": {},
   "outputs": [
    {
     "data": {
      "text/plain": [
       "-29.17507158032459"
      ]
     },
     "execution_count": 135,
     "metadata": {},
     "output_type": "execute_result"
    }
   ],
   "source": [
    "# Import the NumPy module.\n",
    "\n",
    "import numpy as np\n",
    "\n",
    "np.random.uniform(-90.000, 90.000)\n"
   ]
  },
  {
   "cell_type": "code",
   "execution_count": 136,
   "id": "998e77a2",
   "metadata": {},
   "outputs": [
    {
     "data": {
      "text/plain": [
       "array([-7.45120043e+01, -2.79464876e+01,  2.82517319e+01, -1.97904831e+01,\n",
       "        8.76195331e+01,  3.23957947e+01,  1.54101171e+01, -1.08410661e+01,\n",
       "       -3.62656697e+01,  4.24612681e+01, -1.51230599e+01, -5.04087224e+01,\n",
       "       -8.88635762e+01, -5.80690370e+01, -2.90043641e+01, -2.42984808e+01,\n",
       "       -6.36996915e+01, -6.82426663e+01, -8.90675967e+01,  1.29187658e+01,\n",
       "       -6.80399620e+01,  4.57288497e+00,  6.36432287e+01, -3.89386458e+00,\n",
       "       -2.04933866e-02,  1.88583887e+01,  8.36077253e+01,  6.44765417e+01,\n",
       "       -7.90182260e+01,  7.24939977e+01,  3.65717186e+01, -1.10576737e-01,\n",
       "       -7.89655209e+01, -6.94368828e+01, -6.80365006e+01, -6.25935911e+01,\n",
       "       -6.10754361e+01, -4.65990334e+00, -5.61328139e+01, -3.54303265e+01,\n",
       "       -1.79747120e+01,  8.03326613e+01, -2.46898914e+01,  5.99166256e+01,\n",
       "        8.32887670e+01,  2.93618558e+01, -1.88488915e+01,  7.17140089e+01,\n",
       "        1.53006775e+01, -6.37183283e+01])"
      ]
     },
     "execution_count": 136,
     "metadata": {},
     "output_type": "execute_result"
    }
   ],
   "source": [
    "np.random.uniform(-90.000, 90.000, size=50)"
   ]
  },
  {
   "cell_type": "code",
   "execution_count": 137,
   "id": "1aa7d8ea",
   "metadata": {},
   "outputs": [],
   "source": [
    "# Import timeit.\n",
    "\n",
    "import timeit\n"
   ]
  },
  {
   "cell_type": "code",
   "execution_count": 138,
   "id": "8dac85ae",
   "metadata": {},
   "outputs": [
    {
     "name": "stdout",
     "output_type": "stream",
     "text": [
      "16 µs ± 382 ns per loop (mean ± std. dev. of 7 runs, 100,000 loops each)\n"
     ]
    }
   ],
   "source": [
    "%timeit np.random.uniform(-90.000, 90.000, size=1500)"
   ]
  },
  {
   "cell_type": "code",
   "execution_count": 141,
   "id": "99c6a122",
   "metadata": {},
   "outputs": [
    {
     "name": "stdout",
     "output_type": "stream",
     "text": [
      "1.63 ms ± 27.6 µs per loop (mean ± std. dev. of 7 runs, 1,000 loops each)\n"
     ]
    }
   ],
   "source": [
    "def latitudes():\n",
    "    \n",
    "    latitudes = []\n",
    "    x = 0\n",
    "    for x in range(1500):\n",
    "        random_lat = random.randint(-90, 90) + random.random()\n",
    "        latitudes.append(random_lat)\n",
    "        x+=1\n",
    "    return latitudes\n",
    "\n",
    "# Call the function with 1500.\n",
    "\n",
    "%timeit latitudes()\n"
   ]
  },
  {
   "cell_type": "code",
   "execution_count": null,
   "id": "8dec8079",
   "metadata": {},
   "outputs": [],
   "source": []
  },
  {
   "cell_type": "code",
   "execution_count": null,
   "id": "35fa64bd",
   "metadata": {},
   "outputs": [],
   "source": []
  },
  {
   "cell_type": "code",
   "execution_count": null,
   "id": "a948dbe3",
   "metadata": {},
   "outputs": [],
   "source": []
  }
 ],
 "metadata": {
  "kernelspec": {
   "display_name": "PythonData",
   "language": "python",
   "name": "pythondata"
  },
  "language_info": {
   "codemirror_mode": {
    "name": "ipython",
    "version": 3
   },
   "file_extension": ".py",
   "mimetype": "text/x-python",
   "name": "python",
   "nbconvert_exporter": "python",
   "pygments_lexer": "ipython3",
   "version": "3.9.12"
  }
 },
 "nbformat": 4,
 "nbformat_minor": 5
}
